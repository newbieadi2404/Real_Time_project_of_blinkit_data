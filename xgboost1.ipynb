{
 "cells": [
  {
   "cell_type": "code",
   "execution_count": 20,
   "id": "8bee615f-5a1d-4d30-b08c-e723d962e44e",
   "metadata": {},
   "outputs": [
    {
     "name": "stdout",
     "output_type": "stream",
     "text": [
      "Requirement already satisfied: xgboost in c:\\users\\parth\\anaconda3\\lib\\site-packages (2.1.1)\n",
      "Requirement already satisfied: numpy in c:\\users\\parth\\anaconda3\\lib\\site-packages (from xgboost) (1.26.4)\n",
      "Requirement already satisfied: scipy in c:\\users\\parth\\anaconda3\\lib\\site-packages (from xgboost) (1.13.1)\n"
     ]
    }
   ],
   "source": [
    "!pip install xgboost"
   ]
  },
  {
   "cell_type": "markdown",
   "id": "2a2970b8-99bc-46bd-8052-6f02f3272198",
   "metadata": {},
   "source": [
    "# IMPORTING THE DEPENDENCIES"
   ]
  },
  {
   "cell_type": "code",
   "execution_count": 22,
   "id": "3d477c3f-96bb-4382-8f1c-3c91d6b4e82f",
   "metadata": {},
   "outputs": [],
   "source": [
    "import numpy as np\n",
    "import pandas as pd\n",
    "import matplotlib.pyplot as plt\n",
    "import seaborn as sns\n",
    "from sklearn.preprocessing import LabelEncoder\n",
    "from sklearn.model_selection import train_test_split\n",
    "from xgboost import XGBRegressor\n",
    "from sklearn import metrics"
   ]
  },
  {
   "cell_type": "markdown",
   "id": "39032720-373b-4ec6-a2e6-343be183bdd0",
   "metadata": {},
   "source": [
    "# DATA COLLECTION & ANALYSIS"
   ]
  },
  {
   "cell_type": "markdown",
   "id": "0f60e3a1-2a46-49ce-ad06-6fa51dab347a",
   "metadata": {},
   "source": [
    "### <>LOADING THE DATASET FROM CSV FILE TO PANDAS DATAFRAME"
   ]
  },
  {
   "cell_type": "code",
   "execution_count": 25,
   "id": "2b84d892-ba22-4d09-85e9-cea4943d5ef5",
   "metadata": {},
   "outputs": [
    {
     "name": "stdout",
     "output_type": "stream",
     "text": [
      "True\n"
     ]
    }
   ],
   "source": [
    "import os\n",
    "print(os.path.exists(\"C:/Users/Parth/Desktop/Parth_ml/blinkit/blinkit_grocery.xlsx\"))"
   ]
  },
  {
   "cell_type": "code",
   "execution_count": 26,
   "id": "d3eee2c4-9a59-447e-819b-ab0bb547a1d3",
   "metadata": {},
   "outputs": [],
   "source": [
    "dataset = pd.read_excel(\"C:/Users/Parth/Desktop/Parth_ml/blinkit/blinkit_grocery.xlsx\")"
   ]
  },
  {
   "cell_type": "markdown",
   "id": "d7437ae1-c560-40a9-b2c2-9828a25bd66f",
   "metadata": {},
   "source": [
    "### <>FIRST FIVE ROWS OF THE DATAFRAME"
   ]
  },
  {
   "cell_type": "code",
   "execution_count": 28,
   "id": "42763dc8-e2a2-433c-87e8-214d809dbc62",
   "metadata": {},
   "outputs": [
    {
     "data": {
      "text/html": [
       "<div>\n",
       "<style scoped>\n",
       "    .dataframe tbody tr th:only-of-type {\n",
       "        vertical-align: middle;\n",
       "    }\n",
       "\n",
       "    .dataframe tbody tr th {\n",
       "        vertical-align: top;\n",
       "    }\n",
       "\n",
       "    .dataframe thead th {\n",
       "        text-align: right;\n",
       "    }\n",
       "</style>\n",
       "<table border=\"1\" class=\"dataframe\">\n",
       "  <thead>\n",
       "    <tr style=\"text-align: right;\">\n",
       "      <th></th>\n",
       "      <th>Item Fat Content</th>\n",
       "      <th>Item Identifier</th>\n",
       "      <th>Item Type</th>\n",
       "      <th>Outlet Establishment Year</th>\n",
       "      <th>Outlet Identifier</th>\n",
       "      <th>Outlet Location Type</th>\n",
       "      <th>Outlet Size</th>\n",
       "      <th>Outlet Type</th>\n",
       "      <th>Item Visibility</th>\n",
       "      <th>Item Weight</th>\n",
       "      <th>Sales</th>\n",
       "      <th>Rating</th>\n",
       "    </tr>\n",
       "  </thead>\n",
       "  <tbody>\n",
       "    <tr>\n",
       "      <th>0</th>\n",
       "      <td>Regular</td>\n",
       "      <td>FDX32</td>\n",
       "      <td>Fruits and Vegetables</td>\n",
       "      <td>2012</td>\n",
       "      <td>OUT049</td>\n",
       "      <td>Tier 1</td>\n",
       "      <td>Medium</td>\n",
       "      <td>Supermarket Type1</td>\n",
       "      <td>0.100014</td>\n",
       "      <td>15.10</td>\n",
       "      <td>145.4786</td>\n",
       "      <td>5.0</td>\n",
       "    </tr>\n",
       "    <tr>\n",
       "      <th>1</th>\n",
       "      <td>Low Fat</td>\n",
       "      <td>NCB42</td>\n",
       "      <td>Health and Hygiene</td>\n",
       "      <td>2022</td>\n",
       "      <td>OUT018</td>\n",
       "      <td>Tier 3</td>\n",
       "      <td>Medium</td>\n",
       "      <td>Supermarket Type2</td>\n",
       "      <td>0.008596</td>\n",
       "      <td>11.80</td>\n",
       "      <td>115.3492</td>\n",
       "      <td>5.0</td>\n",
       "    </tr>\n",
       "    <tr>\n",
       "      <th>2</th>\n",
       "      <td>Regular</td>\n",
       "      <td>FDR28</td>\n",
       "      <td>Frozen Foods</td>\n",
       "      <td>2016</td>\n",
       "      <td>OUT046</td>\n",
       "      <td>Tier 1</td>\n",
       "      <td>Small</td>\n",
       "      <td>Supermarket Type1</td>\n",
       "      <td>0.025896</td>\n",
       "      <td>13.85</td>\n",
       "      <td>165.0210</td>\n",
       "      <td>5.0</td>\n",
       "    </tr>\n",
       "    <tr>\n",
       "      <th>3</th>\n",
       "      <td>Regular</td>\n",
       "      <td>FDL50</td>\n",
       "      <td>Canned</td>\n",
       "      <td>2014</td>\n",
       "      <td>OUT013</td>\n",
       "      <td>Tier 3</td>\n",
       "      <td>High</td>\n",
       "      <td>Supermarket Type1</td>\n",
       "      <td>0.042278</td>\n",
       "      <td>12.15</td>\n",
       "      <td>126.5046</td>\n",
       "      <td>5.0</td>\n",
       "    </tr>\n",
       "    <tr>\n",
       "      <th>4</th>\n",
       "      <td>Low Fat</td>\n",
       "      <td>DRI25</td>\n",
       "      <td>Soft Drinks</td>\n",
       "      <td>2015</td>\n",
       "      <td>OUT045</td>\n",
       "      <td>Tier 2</td>\n",
       "      <td>Small</td>\n",
       "      <td>Supermarket Type1</td>\n",
       "      <td>0.033970</td>\n",
       "      <td>19.60</td>\n",
       "      <td>55.1614</td>\n",
       "      <td>5.0</td>\n",
       "    </tr>\n",
       "  </tbody>\n",
       "</table>\n",
       "</div>"
      ],
      "text/plain": [
       "  Item Fat Content Item Identifier              Item Type  \\\n",
       "0          Regular           FDX32  Fruits and Vegetables   \n",
       "1          Low Fat           NCB42     Health and Hygiene   \n",
       "2          Regular           FDR28           Frozen Foods   \n",
       "3          Regular           FDL50                 Canned   \n",
       "4          Low Fat           DRI25            Soft Drinks   \n",
       "\n",
       "   Outlet Establishment Year Outlet Identifier Outlet Location Type  \\\n",
       "0                       2012            OUT049               Tier 1   \n",
       "1                       2022            OUT018               Tier 3   \n",
       "2                       2016            OUT046               Tier 1   \n",
       "3                       2014            OUT013               Tier 3   \n",
       "4                       2015            OUT045               Tier 2   \n",
       "\n",
       "  Outlet Size        Outlet Type  Item Visibility  Item Weight     Sales  \\\n",
       "0      Medium  Supermarket Type1         0.100014        15.10  145.4786   \n",
       "1      Medium  Supermarket Type2         0.008596        11.80  115.3492   \n",
       "2       Small  Supermarket Type1         0.025896        13.85  165.0210   \n",
       "3        High  Supermarket Type1         0.042278        12.15  126.5046   \n",
       "4       Small  Supermarket Type1         0.033970        19.60   55.1614   \n",
       "\n",
       "   Rating  \n",
       "0     5.0  \n",
       "1     5.0  \n",
       "2     5.0  \n",
       "3     5.0  \n",
       "4     5.0  "
      ]
     },
     "execution_count": 28,
     "metadata": {},
     "output_type": "execute_result"
    }
   ],
   "source": [
    "dataset.head()"
   ]
  },
  {
   "cell_type": "markdown",
   "id": "133724f6-d12f-4058-b93a-f8088f2d9ce3",
   "metadata": {},
   "source": [
    "### <> NO. OF ROWS & COLUMNS"
   ]
  },
  {
   "cell_type": "code",
   "execution_count": 30,
   "id": "48522909-b7fb-424f-a093-15b01fad5892",
   "metadata": {},
   "outputs": [
    {
     "data": {
      "text/plain": [
       "(8523, 12)"
      ]
     },
     "execution_count": 30,
     "metadata": {},
     "output_type": "execute_result"
    }
   ],
   "source": [
    "dataset.shape"
   ]
  },
  {
   "cell_type": "markdown",
   "id": "b8911b37-ec1c-4a38-ae26-509d411e3fe2",
   "metadata": {},
   "source": [
    "### <> INFO OF DATASET"
   ]
  },
  {
   "cell_type": "code",
   "execution_count": 32,
   "id": "6863f5ce-5137-437f-a953-a5e8c071cad2",
   "metadata": {},
   "outputs": [
    {
     "name": "stdout",
     "output_type": "stream",
     "text": [
      "<class 'pandas.core.frame.DataFrame'>\n",
      "RangeIndex: 8523 entries, 0 to 8522\n",
      "Data columns (total 12 columns):\n",
      " #   Column                     Non-Null Count  Dtype  \n",
      "---  ------                     --------------  -----  \n",
      " 0   Item Fat Content           8523 non-null   object \n",
      " 1   Item Identifier            8523 non-null   object \n",
      " 2   Item Type                  8523 non-null   object \n",
      " 3   Outlet Establishment Year  8523 non-null   int64  \n",
      " 4   Outlet Identifier          8523 non-null   object \n",
      " 5   Outlet Location Type       8523 non-null   object \n",
      " 6   Outlet Size                8523 non-null   object \n",
      " 7   Outlet Type                8523 non-null   object \n",
      " 8   Item Visibility            8523 non-null   float64\n",
      " 9   Item Weight                7060 non-null   float64\n",
      " 10  Sales                      8523 non-null   float64\n",
      " 11  Rating                     8523 non-null   float64\n",
      "dtypes: float64(4), int64(1), object(7)\n",
      "memory usage: 799.2+ KB\n"
     ]
    }
   ],
   "source": [
    "dataset.info()"
   ]
  },
  {
   "cell_type": "markdown",
   "id": "898fb8f4-e114-4710-8e58-e4c1bb9de4b0",
   "metadata": {},
   "source": [
    "# CATEGORICAL VALUES\n",
    " -Item Fat Content\n",
    " -Item Identifier\n",
    " -Item Type\n",
    " -Outlet Identifier\n",
    " -Outlet Location Type\n",
    " -Outlet Size\n",
    " -Outlet Type"
   ]
  },
  {
   "cell_type": "markdown",
   "id": "72cf2194-216e-4529-8b60-4224c9a3fde2",
   "metadata": {},
   "source": [
    "### <> MISSING VALUES"
   ]
  },
  {
   "cell_type": "code",
   "execution_count": 35,
   "id": "af9da245-8cc0-4f69-8761-a5c0c08f9b56",
   "metadata": {},
   "outputs": [
    {
     "data": {
      "text/plain": [
       "Item Fat Content                0\n",
       "Item Identifier                 0\n",
       "Item Type                       0\n",
       "Outlet Establishment Year       0\n",
       "Outlet Identifier               0\n",
       "Outlet Location Type            0\n",
       "Outlet Size                     0\n",
       "Outlet Type                     0\n",
       "Item Visibility                 0\n",
       "Item Weight                  1463\n",
       "Sales                           0\n",
       "Rating                          0\n",
       "dtype: int64"
      ]
     },
     "execution_count": 35,
     "metadata": {},
     "output_type": "execute_result"
    }
   ],
   "source": [
    "dataset.isnull().sum()"
   ]
  },
  {
   "cell_type": "markdown",
   "id": "cd793edc-81ae-4442-9a14-b107fa8d0b2d",
   "metadata": {},
   "source": [
    "### <> FILLING UP NULL VALUES "
   ]
  },
  {
   "cell_type": "code",
   "execution_count": 37,
   "id": "17b91f2f-7cf8-46cc-a984-38395af93760",
   "metadata": {},
   "outputs": [
    {
     "data": {
      "text/plain": [
       "12.857645184135977"
      ]
     },
     "execution_count": 37,
     "metadata": {},
     "output_type": "execute_result"
    }
   ],
   "source": [
    "dataset['Item Weight'].mean()"
   ]
  },
  {
   "cell_type": "code",
   "execution_count": 38,
   "id": "74a05b04-3c52-4d39-95c7-6801a9c445a1",
   "metadata": {},
   "outputs": [
    {
     "data": {
      "text/plain": [
       "Item Fat Content                0\n",
       "Item Identifier                 0\n",
       "Item Type                       0\n",
       "Outlet Establishment Year       0\n",
       "Outlet Identifier               0\n",
       "Outlet Location Type            0\n",
       "Outlet Size                     0\n",
       "Outlet Type                     0\n",
       "Item Visibility                 0\n",
       "Item Weight                  1463\n",
       "Sales                           0\n",
       "Rating                          0\n",
       "dtype: int64"
      ]
     },
     "execution_count": 38,
     "metadata": {},
     "output_type": "execute_result"
    }
   ],
   "source": [
    "dataset.isnull().sum()"
   ]
  },
  {
   "cell_type": "code",
   "execution_count": 39,
   "id": "a65b58c9-405e-4226-a432-0e59801dd33c",
   "metadata": {},
   "outputs": [],
   "source": [
    "dataset.loc[:, 'Item Weight'] = dataset['Item Weight'].fillna(dataset['Item Weight'].mean())\n"
   ]
  },
  {
   "cell_type": "code",
   "execution_count": 40,
   "id": "e2df9b7b-cf18-4561-b5bf-15c3a6312698",
   "metadata": {},
   "outputs": [
    {
     "data": {
      "text/plain": [
       "Item Fat Content             0\n",
       "Item Identifier              0\n",
       "Item Type                    0\n",
       "Outlet Establishment Year    0\n",
       "Outlet Identifier            0\n",
       "Outlet Location Type         0\n",
       "Outlet Size                  0\n",
       "Outlet Type                  0\n",
       "Item Visibility              0\n",
       "Item Weight                  0\n",
       "Sales                        0\n",
       "Rating                       0\n",
       "dtype: int64"
      ]
     },
     "execution_count": 40,
     "metadata": {},
     "output_type": "execute_result"
    }
   ],
   "source": [
    "dataset.isnull().sum()"
   ]
  },
  {
   "cell_type": "markdown",
   "id": "bcc26199-87c4-461c-8018-212104b023a4",
   "metadata": {},
   "source": [
    "# DATA ANALYSIS"
   ]
  },
  {
   "cell_type": "markdown",
   "id": "570be8d8-e2f8-478c-9fa0-1ae241e3f834",
   "metadata": {},
   "source": [
    "### <> STATISTICAL MEASURES ABOUT THE DATA"
   ]
  },
  {
   "cell_type": "code",
   "execution_count": 43,
   "id": "3ca6318d-4afd-4678-ba8b-b01fcf2faeae",
   "metadata": {},
   "outputs": [
    {
     "data": {
      "text/html": [
       "<div>\n",
       "<style scoped>\n",
       "    .dataframe tbody tr th:only-of-type {\n",
       "        vertical-align: middle;\n",
       "    }\n",
       "\n",
       "    .dataframe tbody tr th {\n",
       "        vertical-align: top;\n",
       "    }\n",
       "\n",
       "    .dataframe thead th {\n",
       "        text-align: right;\n",
       "    }\n",
       "</style>\n",
       "<table border=\"1\" class=\"dataframe\">\n",
       "  <thead>\n",
       "    <tr style=\"text-align: right;\">\n",
       "      <th></th>\n",
       "      <th>Outlet Establishment Year</th>\n",
       "      <th>Item Visibility</th>\n",
       "      <th>Item Weight</th>\n",
       "      <th>Sales</th>\n",
       "      <th>Rating</th>\n",
       "    </tr>\n",
       "  </thead>\n",
       "  <tbody>\n",
       "    <tr>\n",
       "      <th>count</th>\n",
       "      <td>8523.000000</td>\n",
       "      <td>8523.000000</td>\n",
       "      <td>8523.000000</td>\n",
       "      <td>8523.000000</td>\n",
       "      <td>8523.000000</td>\n",
       "    </tr>\n",
       "    <tr>\n",
       "      <th>mean</th>\n",
       "      <td>2016.450546</td>\n",
       "      <td>0.066132</td>\n",
       "      <td>12.857645</td>\n",
       "      <td>140.992783</td>\n",
       "      <td>3.965857</td>\n",
       "    </tr>\n",
       "    <tr>\n",
       "      <th>std</th>\n",
       "      <td>3.189396</td>\n",
       "      <td>0.051598</td>\n",
       "      <td>4.226124</td>\n",
       "      <td>62.275067</td>\n",
       "      <td>0.605651</td>\n",
       "    </tr>\n",
       "    <tr>\n",
       "      <th>min</th>\n",
       "      <td>2011.000000</td>\n",
       "      <td>0.000000</td>\n",
       "      <td>4.555000</td>\n",
       "      <td>31.290000</td>\n",
       "      <td>1.000000</td>\n",
       "    </tr>\n",
       "    <tr>\n",
       "      <th>25%</th>\n",
       "      <td>2014.000000</td>\n",
       "      <td>0.026989</td>\n",
       "      <td>9.310000</td>\n",
       "      <td>93.826500</td>\n",
       "      <td>4.000000</td>\n",
       "    </tr>\n",
       "    <tr>\n",
       "      <th>50%</th>\n",
       "      <td>2016.000000</td>\n",
       "      <td>0.053931</td>\n",
       "      <td>12.857645</td>\n",
       "      <td>143.012800</td>\n",
       "      <td>4.000000</td>\n",
       "    </tr>\n",
       "    <tr>\n",
       "      <th>75%</th>\n",
       "      <td>2018.000000</td>\n",
       "      <td>0.094585</td>\n",
       "      <td>16.000000</td>\n",
       "      <td>185.643700</td>\n",
       "      <td>4.200000</td>\n",
       "    </tr>\n",
       "    <tr>\n",
       "      <th>max</th>\n",
       "      <td>2022.000000</td>\n",
       "      <td>0.328391</td>\n",
       "      <td>21.350000</td>\n",
       "      <td>266.888400</td>\n",
       "      <td>5.000000</td>\n",
       "    </tr>\n",
       "  </tbody>\n",
       "</table>\n",
       "</div>"
      ],
      "text/plain": [
       "       Outlet Establishment Year  Item Visibility  Item Weight        Sales  \\\n",
       "count                8523.000000      8523.000000  8523.000000  8523.000000   \n",
       "mean                 2016.450546         0.066132    12.857645   140.992783   \n",
       "std                     3.189396         0.051598     4.226124    62.275067   \n",
       "min                  2011.000000         0.000000     4.555000    31.290000   \n",
       "25%                  2014.000000         0.026989     9.310000    93.826500   \n",
       "50%                  2016.000000         0.053931    12.857645   143.012800   \n",
       "75%                  2018.000000         0.094585    16.000000   185.643700   \n",
       "max                  2022.000000         0.328391    21.350000   266.888400   \n",
       "\n",
       "            Rating  \n",
       "count  8523.000000  \n",
       "mean      3.965857  \n",
       "std       0.605651  \n",
       "min       1.000000  \n",
       "25%       4.000000  \n",
       "50%       4.000000  \n",
       "75%       4.200000  \n",
       "max       5.000000  "
      ]
     },
     "execution_count": 43,
     "metadata": {},
     "output_type": "execute_result"
    }
   ],
   "source": [
    "dataset.describe()"
   ]
  },
  {
   "cell_type": "markdown",
   "id": "846f7542-3ad1-4be4-8d47-89d0e70cc007",
   "metadata": {},
   "source": [
    "### <> NUMERICAL FEATURES"
   ]
  },
  {
   "cell_type": "code",
   "execution_count": 45,
   "id": "5306c3d5-4226-4c2d-85fc-f0e4cc90fd6c",
   "metadata": {},
   "outputs": [],
   "source": [
    "sns.set()"
   ]
  },
  {
   "cell_type": "markdown",
   "id": "b5eaf04a-612a-4d92-8bee-a4fd4bd2a10f",
   "metadata": {},
   "source": [
    "##### : ITEM WEIGHT DISTRIBUTION"
   ]
  },
  {
   "cell_type": "code",
   "execution_count": 47,
   "id": "22c011c9-be61-4900-9381-a38154e80675",
   "metadata": {},
   "outputs": [
    {
     "name": "stderr",
     "output_type": "stream",
     "text": [
      "C:\\Users\\PARTH\\AppData\\Local\\Temp\\ipykernel_15776\\1145137167.py:2: UserWarning: \n",
      "\n",
      "`distplot` is a deprecated function and will be removed in seaborn v0.14.0.\n",
      "\n",
      "Please adapt your code to use either `displot` (a figure-level function with\n",
      "similar flexibility) or `histplot` (an axes-level function for histograms).\n",
      "\n",
      "For a guide to updating your code to use the new functions, please see\n",
      "https://gist.github.com/mwaskom/de44147ed2974457ad6372750bbe5751\n",
      "\n",
      "  sns.distplot(dataset['Item Weight'])\n"
     ]
    },
    {
     "data": {
      "image/png": "[encoded data removed]",
      "text/plain": [
       "<Figure size 600x600 with 1 Axes>"
      ]
     },
     "metadata": {},
     "output_type": "display_data"
    }
   ],
   "source": [
    "plt.figure(figsize = (6,6))\n",
    "sns.distplot(dataset['Item Weight'])\n",
    "plt.show()"
   ]
  },
  {
   "cell_type": "markdown",
   "id": "df7b7afe-4c93-499f-af6d-02b13bff5be1",
   "metadata": {},
   "source": [
    "##### :ITEM VISIBILITY DISTRIBUTION"
   ]
  },
  {
   "cell_type": "code",
   "execution_count": 49,
   "id": "47388069-b38c-463a-9d4e-967ddcade8e2",
   "metadata": {},
   "outputs": [
    {
     "name": "stderr",
     "output_type": "stream",
     "text": [
      "C:\\Users\\PARTH\\AppData\\Local\\Temp\\ipykernel_15776\\1623666445.py:2: UserWarning: \n",
      "\n",
      "`distplot` is a deprecated function and will be removed in seaborn v0.14.0.\n",
      "\n",
      "Please adapt your code to use either `displot` (a figure-level function with\n",
      "similar flexibility) or `histplot` (an axes-level function for histograms).\n",
      "\n",
      "For a guide to updating your code to use the new functions, please see\n",
      "https://gist.github.com/mwaskom/de44147ed2974457ad6372750bbe5751\n",
      "\n",
      "  sns.distplot(dataset['Item Visibility'])\n"
     ]
    },
    {
     "data": {
      "image/png": "[encoded data removed]",
      "text/plain": [
       "<Figure size 600x600 with 1 Axes>"
      ]
     },
     "metadata": {},
     "output_type": "display_data"
    }
   ],
   "source": [
    "plt.figure(figsize = (6,6))\n",
    "sns.distplot(dataset['Item Visibility'])\n",
    "plt.show()"
   ]
  },
  {
   "cell_type": "markdown",
   "id": "6766dbe5-52b2-47b8-ac47-f944b5531a29",
   "metadata": {},
   "source": [
    "##### :SALES DISTRIBUTION"
   ]
  },
  {
   "cell_type": "code",
   "execution_count": 51,
   "id": "f6dd4e11-1864-4c3a-b11a-e25c937e3835",
   "metadata": {},
   "outputs": [
    {
     "name": "stderr",
     "output_type": "stream",
     "text": [
      "C:\\Users\\PARTH\\AppData\\Local\\Temp\\ipykernel_15776\\4171150530.py:2: UserWarning: \n",
      "\n",
      "`distplot` is a deprecated function and will be removed in seaborn v0.14.0.\n",
      "\n",
      "Please adapt your code to use either `displot` (a figure-level function with\n",
      "similar flexibility) or `histplot` (an axes-level function for histograms).\n",
      "\n",
      "For a guide to updating your code to use the new functions, please see\n",
      "https://gist.github.com/mwaskom/de44147ed2974457ad6372750bbe5751\n",
      "\n",
      "  sns.distplot(dataset['Sales'])\n"
     ]
    },
    {
     "data": {
      "image/png": "[encoded data removed]",
      "text/plain": [
       "<Figure size 600x600 with 1 Axes>"
      ]
     },
     "metadata": {},
     "output_type": "display_data"
    }
   ],
   "source": [
    "plt.figure(figsize = (6,6))\n",
    "sns.distplot(dataset['Sales'])\n",
    "plt.show()"
   ]
  },
  {
   "cell_type": "markdown",
   "id": "f126d478-e38b-48da-ad7f-cbab23afa0c2",
   "metadata": {},
   "source": [
    "##### :RATING DISTRIBUTION"
   ]
  },
  {
   "cell_type": "code",
   "execution_count": 53,
   "id": "ecde5ad5-4695-45a9-b1c3-4fcae2df9efd",
   "metadata": {},
   "outputs": [
    {
     "name": "stderr",
     "output_type": "stream",
     "text": [
      "C:\\Users\\PARTH\\AppData\\Local\\Temp\\ipykernel_15776\\2328385111.py:2: UserWarning: \n",
      "\n",
      "`distplot` is a deprecated function and will be removed in seaborn v0.14.0.\n",
      "\n",
      "Please adapt your code to use either `displot` (a figure-level function with\n",
      "similar flexibility) or `histplot` (an axes-level function for histograms).\n",
      "\n",
      "For a guide to updating your code to use the new functions, please see\n",
      "https://gist.github.com/mwaskom/de44147ed2974457ad6372750bbe5751\n",
      "\n",
      "  sns.distplot(dataset['Rating'])\n"
     ]
    },
    {
     "data": {
      "image/png": "[encoded data removed]",
      "text/plain": [
       "<Figure size 600x600 with 1 Axes>"
      ]
     },
     "metadata": {},
     "output_type": "display_data"
    }
   ],
   "source": [
    "plt.figure(figsize = (6,6))\n",
    "sns.distplot(dataset['Rating'])\n",
    "plt.show()"
   ]
  },
  {
   "cell_type": "markdown",
   "id": "4ed9d9aa-15a7-481f-a0c1-33f2ca5136d2",
   "metadata": {},
   "source": [
    "# DATA PRE-PROCESSING"
   ]
  },
  {
   "cell_type": "code",
   "execution_count": 55,
   "id": "5e310a1f-353d-4e63-ac40-7d9bc755ee1b",
   "metadata": {},
   "outputs": [
    {
     "data": {
      "text/html": [
       "<div>\n",
       "<style scoped>\n",
       "    .dataframe tbody tr th:only-of-type {\n",
       "        vertical-align: middle;\n",
       "    }\n",
       "\n",
       "    .dataframe tbody tr th {\n",
       "        vertical-align: top;\n",
       "    }\n",
       "\n",
       "    .dataframe thead th {\n",
       "        text-align: right;\n",
       "    }\n",
       "</style>\n",
       "<table border=\"1\" class=\"dataframe\">\n",
       "  <thead>\n",
       "    <tr style=\"text-align: right;\">\n",
       "      <th></th>\n",
       "      <th>Item Fat Content</th>\n",
       "      <th>Item Identifier</th>\n",
       "      <th>Item Type</th>\n",
       "      <th>Outlet Establishment Year</th>\n",
       "      <th>Outlet Identifier</th>\n",
       "      <th>Outlet Location Type</th>\n",
       "      <th>Outlet Size</th>\n",
       "      <th>Outlet Type</th>\n",
       "      <th>Item Visibility</th>\n",
       "      <th>Item Weight</th>\n",
       "      <th>Sales</th>\n",
       "      <th>Rating</th>\n",
       "    </tr>\n",
       "  </thead>\n",
       "  <tbody>\n",
       "    <tr>\n",
       "      <th>0</th>\n",
       "      <td>Regular</td>\n",
       "      <td>FDX32</td>\n",
       "      <td>Fruits and Vegetables</td>\n",
       "      <td>2012</td>\n",
       "      <td>OUT049</td>\n",
       "      <td>Tier 1</td>\n",
       "      <td>Medium</td>\n",
       "      <td>Supermarket Type1</td>\n",
       "      <td>0.100014</td>\n",
       "      <td>15.10</td>\n",
       "      <td>145.4786</td>\n",
       "      <td>5.0</td>\n",
       "    </tr>\n",
       "    <tr>\n",
       "      <th>1</th>\n",
       "      <td>Low Fat</td>\n",
       "      <td>NCB42</td>\n",
       "      <td>Health and Hygiene</td>\n",
       "      <td>2022</td>\n",
       "      <td>OUT018</td>\n",
       "      <td>Tier 3</td>\n",
       "      <td>Medium</td>\n",
       "      <td>Supermarket Type2</td>\n",
       "      <td>0.008596</td>\n",
       "      <td>11.80</td>\n",
       "      <td>115.3492</td>\n",
       "      <td>5.0</td>\n",
       "    </tr>\n",
       "    <tr>\n",
       "      <th>2</th>\n",
       "      <td>Regular</td>\n",
       "      <td>FDR28</td>\n",
       "      <td>Frozen Foods</td>\n",
       "      <td>2016</td>\n",
       "      <td>OUT046</td>\n",
       "      <td>Tier 1</td>\n",
       "      <td>Small</td>\n",
       "      <td>Supermarket Type1</td>\n",
       "      <td>0.025896</td>\n",
       "      <td>13.85</td>\n",
       "      <td>165.0210</td>\n",
       "      <td>5.0</td>\n",
       "    </tr>\n",
       "    <tr>\n",
       "      <th>3</th>\n",
       "      <td>Regular</td>\n",
       "      <td>FDL50</td>\n",
       "      <td>Canned</td>\n",
       "      <td>2014</td>\n",
       "      <td>OUT013</td>\n",
       "      <td>Tier 3</td>\n",
       "      <td>High</td>\n",
       "      <td>Supermarket Type1</td>\n",
       "      <td>0.042278</td>\n",
       "      <td>12.15</td>\n",
       "      <td>126.5046</td>\n",
       "      <td>5.0</td>\n",
       "    </tr>\n",
       "    <tr>\n",
       "      <th>4</th>\n",
       "      <td>Low Fat</td>\n",
       "      <td>DRI25</td>\n",
       "      <td>Soft Drinks</td>\n",
       "      <td>2015</td>\n",
       "      <td>OUT045</td>\n",
       "      <td>Tier 2</td>\n",
       "      <td>Small</td>\n",
       "      <td>Supermarket Type1</td>\n",
       "      <td>0.033970</td>\n",
       "      <td>19.60</td>\n",
       "      <td>55.1614</td>\n",
       "      <td>5.0</td>\n",
       "    </tr>\n",
       "  </tbody>\n",
       "</table>\n",
       "</div>"
      ],
      "text/plain": [
       "  Item Fat Content Item Identifier              Item Type  \\\n",
       "0          Regular           FDX32  Fruits and Vegetables   \n",
       "1          Low Fat           NCB42     Health and Hygiene   \n",
       "2          Regular           FDR28           Frozen Foods   \n",
       "3          Regular           FDL50                 Canned   \n",
       "4          Low Fat           DRI25            Soft Drinks   \n",
       "\n",
       "   Outlet Establishment Year Outlet Identifier Outlet Location Type  \\\n",
       "0                       2012            OUT049               Tier 1   \n",
       "1                       2022            OUT018               Tier 3   \n",
       "2                       2016            OUT046               Tier 1   \n",
       "3                       2014            OUT013               Tier 3   \n",
       "4                       2015            OUT045               Tier 2   \n",
       "\n",
       "  Outlet Size        Outlet Type  Item Visibility  Item Weight     Sales  \\\n",
       "0      Medium  Supermarket Type1         0.100014        15.10  145.4786   \n",
       "1      Medium  Supermarket Type2         0.008596        11.80  115.3492   \n",
       "2       Small  Supermarket Type1         0.025896        13.85  165.0210   \n",
       "3        High  Supermarket Type1         0.042278        12.15  126.5046   \n",
       "4       Small  Supermarket Type1         0.033970        19.60   55.1614   \n",
       "\n",
       "   Rating  \n",
       "0     5.0  \n",
       "1     5.0  \n",
       "2     5.0  \n",
       "3     5.0  \n",
       "4     5.0  "
      ]
     },
     "execution_count": 55,
     "metadata": {},
     "output_type": "execute_result"
    }
   ],
   "source": [
    "dataset.head()"
   ]
  },
  {
   "cell_type": "code",
   "execution_count": 56,
   "id": "334403f0-752f-4f94-9477-45a4a9980f22",
   "metadata": {},
   "outputs": [
    {
     "data": {
      "text/plain": [
       "Item Fat Content\n",
       "Low Fat    5089\n",
       "Regular    2889\n",
       "LF          316\n",
       "reg         117\n",
       "low fat     112\n",
       "Name: count, dtype: int64"
      ]
     },
     "execution_count": 56,
     "metadata": {},
     "output_type": "execute_result"
    }
   ],
   "source": [
    "dataset['Item Fat Content'].value_counts()"
   ]
  },
  {
   "cell_type": "code",
   "execution_count": 57,
   "id": "21072197-9cf4-47b8-b924-dafc1d42b358",
   "metadata": {},
   "outputs": [],
   "source": [
    "dataset.replace({'Item Fat Content' : {'LF':'Low Fat', 'low fat':'Low Fat', 'reg':'Regular'}}, inplace = True)"
   ]
  },
  {
   "cell_type": "code",
   "execution_count": 58,
   "id": "6067b504-9bee-4ea9-ba82-92195897354c",
   "metadata": {},
   "outputs": [
    {
     "data": {
      "text/plain": [
       "Item Fat Content\n",
       "Low Fat    5517\n",
       "Regular    3006\n",
       "Name: count, dtype: int64"
      ]
     },
     "execution_count": 58,
     "metadata": {},
     "output_type": "execute_result"
    }
   ],
   "source": [
    "dataset['Item Fat Content'].value_counts()"
   ]
  },
  {
   "cell_type": "markdown",
   "id": "09ac521b-93d4-478f-8efe-d1a1ab9eb167",
   "metadata": {},
   "source": [
    "### <> LABEL ENCODING"
   ]
  },
  {
   "cell_type": "code",
   "execution_count": 60,
   "id": "447ee7d5-cabd-4220-9ea5-336fb8749610",
   "metadata": {},
   "outputs": [],
   "source": [
    "encoder = LabelEncoder()"
   ]
  },
  {
   "cell_type": "code",
   "execution_count": 61,
   "id": "dde70043-fe84-4a15-8705-6c01a97931b1",
   "metadata": {},
   "outputs": [],
   "source": [
    "dataset['Item Fat Content'] = encoder.fit_transform(dataset['Item Fat Content'])\n",
    "\n",
    "dataset['Item Identifier'] = encoder.fit_transform(dataset['Item Identifier'])\n",
    "\n",
    "dataset['Item Type'] = encoder.fit_transform(dataset['Item Type'])\n",
    "\n",
    "dataset['Outlet Identifier'] = encoder.fit_transform(dataset['Outlet Identifier'])\n",
    "\n",
    "dataset['Outlet Location Type'] = encoder.fit_transform(dataset['Outlet Location Type'])\n",
    "\n",
    "dataset['Outlet Size'] = encoder.fit_transform(dataset['Outlet Size'])\n",
    "\n",
    "dataset['Outlet Type'] = encoder.fit_transform(dataset['Outlet Type'])                                                   "
   ]
  },
  {
   "cell_type": "code",
   "execution_count": 62,
   "id": "af1f3886-8860-4d9a-97fa-82cf5ce67ce1",
   "metadata": {},
   "outputs": [
    {
     "data": {
      "text/html": [
       "<div>\n",
       "<style scoped>\n",
       "    .dataframe tbody tr th:only-of-type {\n",
       "        vertical-align: middle;\n",
       "    }\n",
       "\n",
       "    .dataframe tbody tr th {\n",
       "        vertical-align: top;\n",
       "    }\n",
       "\n",
       "    .dataframe thead th {\n",
       "        text-align: right;\n",
       "    }\n",
       "</style>\n",
       "<table border=\"1\" class=\"dataframe\">\n",
       "  <thead>\n",
       "    <tr style=\"text-align: right;\">\n",
       "      <th></th>\n",
       "      <th>Item Fat Content</th>\n",
       "      <th>Item Identifier</th>\n",
       "      <th>Item Type</th>\n",
       "      <th>Outlet Establishment Year</th>\n",
       "      <th>Outlet Identifier</th>\n",
       "      <th>Outlet Location Type</th>\n",
       "      <th>Outlet Size</th>\n",
       "      <th>Outlet Type</th>\n",
       "      <th>Item Visibility</th>\n",
       "      <th>Item Weight</th>\n",
       "      <th>Sales</th>\n",
       "      <th>Rating</th>\n",
       "    </tr>\n",
       "  </thead>\n",
       "  <tbody>\n",
       "    <tr>\n",
       "      <th>0</th>\n",
       "      <td>1</td>\n",
       "      <td>1142</td>\n",
       "      <td>6</td>\n",
       "      <td>2012</td>\n",
       "      <td>9</td>\n",
       "      <td>0</td>\n",
       "      <td>1</td>\n",
       "      <td>1</td>\n",
       "      <td>0.100014</td>\n",
       "      <td>15.10</td>\n",
       "      <td>145.4786</td>\n",
       "      <td>5.0</td>\n",
       "    </tr>\n",
       "    <tr>\n",
       "      <th>1</th>\n",
       "      <td>0</td>\n",
       "      <td>1280</td>\n",
       "      <td>8</td>\n",
       "      <td>2022</td>\n",
       "      <td>3</td>\n",
       "      <td>2</td>\n",
       "      <td>1</td>\n",
       "      <td>2</td>\n",
       "      <td>0.008596</td>\n",
       "      <td>11.80</td>\n",
       "      <td>115.3492</td>\n",
       "      <td>5.0</td>\n",
       "    </tr>\n",
       "    <tr>\n",
       "      <th>2</th>\n",
       "      <td>1</td>\n",
       "      <td>843</td>\n",
       "      <td>5</td>\n",
       "      <td>2016</td>\n",
       "      <td>8</td>\n",
       "      <td>0</td>\n",
       "      <td>2</td>\n",
       "      <td>1</td>\n",
       "      <td>0.025896</td>\n",
       "      <td>13.85</td>\n",
       "      <td>165.0210</td>\n",
       "      <td>5.0</td>\n",
       "    </tr>\n",
       "    <tr>\n",
       "      <th>3</th>\n",
       "      <td>1</td>\n",
       "      <td>611</td>\n",
       "      <td>3</td>\n",
       "      <td>2014</td>\n",
       "      <td>1</td>\n",
       "      <td>2</td>\n",
       "      <td>0</td>\n",
       "      <td>1</td>\n",
       "      <td>0.042278</td>\n",
       "      <td>12.15</td>\n",
       "      <td>126.5046</td>\n",
       "      <td>5.0</td>\n",
       "    </tr>\n",
       "    <tr>\n",
       "      <th>4</th>\n",
       "      <td>0</td>\n",
       "      <td>82</td>\n",
       "      <td>14</td>\n",
       "      <td>2015</td>\n",
       "      <td>7</td>\n",
       "      <td>1</td>\n",
       "      <td>2</td>\n",
       "      <td>1</td>\n",
       "      <td>0.033970</td>\n",
       "      <td>19.60</td>\n",
       "      <td>55.1614</td>\n",
       "      <td>5.0</td>\n",
       "    </tr>\n",
       "  </tbody>\n",
       "</table>\n",
       "</div>"
      ],
      "text/plain": [
       "   Item Fat Content  Item Identifier  Item Type  Outlet Establishment Year  \\\n",
       "0                 1             1142          6                       2012   \n",
       "1                 0             1280          8                       2022   \n",
       "2                 1              843          5                       2016   \n",
       "3                 1              611          3                       2014   \n",
       "4                 0               82         14                       2015   \n",
       "\n",
       "   Outlet Identifier  Outlet Location Type  Outlet Size  Outlet Type  \\\n",
       "0                  9                     0            1            1   \n",
       "1                  3                     2            1            2   \n",
       "2                  8                     0            2            1   \n",
       "3                  1                     2            0            1   \n",
       "4                  7                     1            2            1   \n",
       "\n",
       "   Item Visibility  Item Weight     Sales  Rating  \n",
       "0         0.100014        15.10  145.4786     5.0  \n",
       "1         0.008596        11.80  115.3492     5.0  \n",
       "2         0.025896        13.85  165.0210     5.0  \n",
       "3         0.042278        12.15  126.5046     5.0  \n",
       "4         0.033970        19.60   55.1614     5.0  "
      ]
     },
     "execution_count": 62,
     "metadata": {},
     "output_type": "execute_result"
    }
   ],
   "source": [
    "dataset.head()"
   ]
  },
  {
   "cell_type": "markdown",
   "id": "b8a98a15-f604-446d-90b0-89904f6f9c01",
   "metadata": {},
   "source": [
    "### SPLITTING FEATURES & TARGETS"
   ]
  },
  {
   "cell_type": "code",
   "execution_count": 64,
   "id": "f3bcebcf-4951-48db-9069-7a8038b9c0b8",
   "metadata": {},
   "outputs": [],
   "source": [
    "X = dataset.drop(columns = 'Sales', axis = 1)\n",
    "Y = dataset['Sales']"
   ]
  },
  {
   "cell_type": "code",
   "execution_count": 65,
   "id": "1fd65bf6-2dab-49d6-a643-b8bef8d48725",
   "metadata": {},
   "outputs": [
    {
     "name": "stdout",
     "output_type": "stream",
     "text": [
      "      Item Fat Content  Item Identifier  Item Type  Outlet Establishment Year  \\\n",
      "0                    1             1142          6                       2012   \n",
      "1                    0             1280          8                       2022   \n",
      "2                    1              843          5                       2016   \n",
      "3                    1              611          3                       2014   \n",
      "4                    0               82         14                       2015   \n",
      "...                ...              ...        ...                        ...   \n",
      "8518                 0             1497          8                       2018   \n",
      "8519                 0              658         13                       2018   \n",
      "8520                 0               29         14                       2018   \n",
      "8521                 1              958          4                       2018   \n",
      "8522                 1              651         13                       2018   \n",
      "\n",
      "      Outlet Identifier  Outlet Location Type  Outlet Size  Outlet Type  \\\n",
      "0                     9                     0            1            1   \n",
      "1                     3                     2            1            2   \n",
      "2                     8                     0            2            1   \n",
      "3                     1                     2            0            1   \n",
      "4                     7                     1            2            1   \n",
      "...                 ...                   ...          ...          ...   \n",
      "8518                  5                     2            1            3   \n",
      "8519                  5                     2            1            3   \n",
      "8520                  5                     2            1            3   \n",
      "8521                  5                     2            1            3   \n",
      "8522                  5                     2            1            3   \n",
      "\n",
      "      Item Visibility  Item Weight  Rating  \n",
      "0            0.100014    15.100000     5.0  \n",
      "1            0.008596    11.800000     5.0  \n",
      "2            0.025896    13.850000     5.0  \n",
      "3            0.042278    12.150000     5.0  \n",
      "4            0.033970    19.600000     5.0  \n",
      "...               ...          ...     ...  \n",
      "8518         0.000000    12.857645     4.0  \n",
      "8519         0.034706    12.857645     4.0  \n",
      "8520         0.027571    12.857645     4.0  \n",
      "8521         0.107715    12.857645     4.0  \n",
      "8522         0.000000    12.857645     4.0  \n",
      "\n",
      "[8523 rows x 11 columns]\n"
     ]
    }
   ],
   "source": [
    "print(X)"
   ]
  },
  {
   "cell_type": "code",
   "execution_count": 66,
   "id": "9de77ed4-1169-49cf-b842-4bb9d0f9e64a",
   "metadata": {},
   "outputs": [
    {
     "name": "stdout",
     "output_type": "stream",
     "text": [
      "0       145.4786\n",
      "1       115.3492\n",
      "2       165.0210\n",
      "3       126.5046\n",
      "4        55.1614\n",
      "          ...   \n",
      "8518    164.5526\n",
      "8519    241.6828\n",
      "8520     86.6198\n",
      "8521     97.8752\n",
      "8522    112.2544\n",
      "Name: Sales, Length: 8523, dtype: float64\n"
     ]
    }
   ],
   "source": [
    "print(Y)"
   ]
  },
  {
   "cell_type": "markdown",
   "id": "a07e0a8b-031f-49a5-8b13-8c9d835318d1",
   "metadata": {},
   "source": [
    "# TRAINING & TESTING DATA"
   ]
  },
  {
   "cell_type": "markdown",
   "id": "0201753f-21b9-48e3-b4a7-148abb212779",
   "metadata": {},
   "source": [
    "### <> SPLITTING DATA INTO TRAINING DATA & TESTING DATA"
   ]
  },
  {
   "cell_type": "code",
   "execution_count": 69,
   "id": "9621938c-e5bd-4f6f-80ff-3647bd656322",
   "metadata": {},
   "outputs": [],
   "source": [
    "X_train, X_test, Y_train, Y_test = train_test_split(X, Y, test_size = 0.2, random_state = 2)"
   ]
  },
  {
   "cell_type": "code",
   "execution_count": 70,
   "id": "c4130d1a-b822-4036-9113-277b628434c4",
   "metadata": {},
   "outputs": [
    {
     "name": "stdout",
     "output_type": "stream",
     "text": [
      "(8523, 11) (6818, 11) (1705, 11)\n"
     ]
    }
   ],
   "source": [
    "print(X.shape, X_train.shape, X_test.shape)"
   ]
  },
  {
   "cell_type": "markdown",
   "id": "6da735db-da6e-4473-995c-19d81ac534f1",
   "metadata": {},
   "source": [
    "### <> MACHINE LEARNING MODEL TRAINING"
   ]
  },
  {
   "cell_type": "markdown",
   "id": "6eefeb7b-12d8-4f7b-a67a-db6e55b32ecc",
   "metadata": {},
   "source": [
    "### <> XGBOOST REGRESSOR"
   ]
  },
  {
   "cell_type": "code",
   "execution_count": 73,
   "id": "660901e9-ecc2-4cf7-a63a-e10b6aa1d9eb",
   "metadata": {},
   "outputs": [],
   "source": [
    "regressor = XGBRegressor()"
   ]
  },
  {
   "cell_type": "code",
   "execution_count": 74,
   "id": "a9529328-7bc1-41c4-b704-6894ad4bc036",
   "metadata": {},
   "outputs": [
    {
     "data": {
      "text/html": [
       "<style>#sk-container-id-1 {\n",
       "  /* Definition of color scheme common for light and dark mode */\n",
       "  --sklearn-color-text: black;\n",
       "  --sklearn-color-line: gray;\n",
       "  /* Definition of color scheme for unfitted estimators */\n",
       "  --sklearn-color-unfitted-level-0: #fff5e6;\n",
       "  --sklearn-color-unfitted-level-1: #f6e4d2;\n",
       "  --sklearn-color-unfitted-level-2: #ffe0b3;\n",
       "  --sklearn-color-unfitted-level-3: chocolate;\n",
       "  /* Definition of color scheme for fitted estimators */\n",
       "  --sklearn-color-fitted-level-0: #f0f8ff;\n",
       "  --sklearn-color-fitted-level-1: #d4ebff;\n",
       "  --sklearn-color-fitted-level-2: #b3dbfd;\n",
       "  --sklearn-color-fitted-level-3: cornflowerblue;\n",
       "\n",
       "  /* Specific color for light theme */\n",
       "  --sklearn-color-text-on-default-background: var(--sg-text-color, var(--theme-code-foreground, var(--jp-content-font-color1, black)));\n",
       "  --sklearn-color-background: var(--sg-background-color, var(--theme-background, var(--jp-layout-color0, white)));\n",
       "  --sklearn-color-border-box: var(--sg-text-color, var(--theme-code-foreground, var(--jp-content-font-color1, black)));\n",
       "  --sklearn-color-icon: #696969;\n",
       "\n",
       "  @media (prefers-color-scheme: dark) {\n",
       "    /* Redefinition of color scheme for dark theme */\n",
       "    --sklearn-color-text-on-default-background: var(--sg-text-color, var(--theme-code-foreground, var(--jp-content-font-color1, white)));\n",
       "    --sklearn-color-background: var(--sg-background-color, var(--theme-background, var(--jp-layout-color0, #111)));\n",
       "    --sklearn-color-border-box: var(--sg-text-color, var(--theme-code-foreground, var(--jp-content-font-color1, white)));\n",
       "    --sklearn-color-icon: #878787;\n",
       "  }\n",
       "}\n",
       "\n",
       "#sk-container-id-1 {\n",
       "  color: var(--sklearn-color-text);\n",
       "}\n",
       "\n",
       "#sk-container-id-1 pre {\n",
       "  padding: 0;\n",
       "}\n",
       "\n",
       "#sk-container-id-1 input.sk-hidden--visually {\n",
       "  border: 0;\n",
       "  clip: rect(1px 1px 1px 1px);\n",
       "  clip: rect(1px, 1px, 1px, 1px);\n",
       "  height: 1px;\n",
       "  margin: -1px;\n",
       "  overflow: hidden;\n",
       "  padding: 0;\n",
       "  position: absolute;\n",
       "  width: 1px;\n",
       "}\n",
       "\n",
       "#sk-container-id-1 div.sk-dashed-wrapped {\n",
       "  border: 1px dashed var(--sklearn-color-line);\n",
       "  margin: 0 0.4em 0.5em 0.4em;\n",
       "  box-sizing: border-box;\n",
       "  padding-bottom: 0.4em;\n",
       "  background-color: var(--sklearn-color-background);\n",
       "}\n",
       "\n",
       "#sk-container-id-1 div.sk-container {\n",
       "  /* jupyter's `normalize.less` sets `[hidden] { display: none; }`\n",
       "     but bootstrap.min.css set `[hidden] { display: none !important; }`\n",
       "     so we also need the `!important` here to be able to override the\n",
       "     default hidden behavior on the sphinx rendered scikit-learn.org.\n",
       "     See: https://github.com/scikit-learn/scikit-learn/issues/21755 */\n",
       "  display: inline-block !important;\n",
       "  position: relative;\n",
       "}\n",
       "\n",
       "#sk-container-id-1 div.sk-text-repr-fallback {\n",
       "  display: none;\n",
       "}\n",
       "\n",
       "div.sk-parallel-item,\n",
       "div.sk-serial,\n",
       "div.sk-item {\n",
       "  /* draw centered vertical line to link estimators */\n",
       "  background-image: linear-gradient(var(--sklearn-color-text-on-default-background), var(--sklearn-color-text-on-default-background));\n",
       "  background-size: 2px 100%;\n",
       "  background-repeat: no-repeat;\n",
       "  background-position: center center;\n",
       "}\n",
       "\n",
       "/* Parallel-specific style estimator block */\n",
       "\n",
       "#sk-container-id-1 div.sk-parallel-item::after {\n",
       "  content: \"\";\n",
       "  width: 100%;\n",
       "  border-bottom: 2px solid var(--sklearn-color-text-on-default-background);\n",
       "  flex-grow: 1;\n",
       "}\n",
       "\n",
       "#sk-container-id-1 div.sk-parallel {\n",
       "  display: flex;\n",
       "  align-items: stretch;\n",
       "  justify-content: center;\n",
       "  background-color: var(--sklearn-color-background);\n",
       "  position: relative;\n",
       "}\n",
       "\n",
       "#sk-container-id-1 div.sk-parallel-item {\n",
       "  display: flex;\n",
       "  flex-direction: column;\n",
       "}\n",
       "\n",
       "#sk-container-id-1 div.sk-parallel-item:first-child::after {\n",
       "  align-self: flex-end;\n",
       "  width: 50%;\n",
       "}\n",
       "\n",
       "#sk-container-id-1 div.sk-parallel-item:last-child::after {\n",
       "  align-self: flex-start;\n",
       "  width: 50%;\n",
       "}\n",
       "\n",
       "#sk-container-id-1 div.sk-parallel-item:only-child::after {\n",
       "  width: 0;\n",
       "}\n",
       "\n",
       "/* Serial-specific style estimator block */\n",
       "\n",
       "#sk-container-id-1 div.sk-serial {\n",
       "  display: flex;\n",
       "  flex-direction: column;\n",
       "  align-items: center;\n",
       "  background-color: var(--sklearn-color-background);\n",
       "  padding-right: 1em;\n",
       "  padding-left: 1em;\n",
       "}\n",
       "\n",
       "\n",
       "/* Toggleable style: style used for estimator/Pipeline/ColumnTransformer box that is\n",
       "clickable and can be expanded/collapsed.\n",
       "- Pipeline and ColumnTransformer use this feature and define the default style\n",
       "- Estimators will overwrite some part of the style using the `sk-estimator` class\n",
       "*/\n",
       "\n",
       "/* Pipeline and ColumnTransformer style (default) */\n",
       "\n",
       "#sk-container-id-1 div.sk-toggleable {\n",
       "  /* Default theme specific background. It is overwritten whether we have a\n",
       "  specific estimator or a Pipeline/ColumnTransformer */\n",
       "  background-color: var(--sklearn-color-background);\n",
       "}\n",
       "\n",
       "/* Toggleable label */\n",
       "#sk-container-id-1 label.sk-toggleable__label {\n",
       "  cursor: pointer;\n",
       "  display: block;\n",
       "  width: 100%;\n",
       "  margin-bottom: 0;\n",
       "  padding: 0.5em;\n",
       "  box-sizing: border-box;\n",
       "  text-align: center;\n",
       "}\n",
       "\n",
       "#sk-container-id-1 label.sk-toggleable__label-arrow:before {\n",
       "  /* Arrow on the left of the label */\n",
       "  content: \"▸\";\n",
       "  float: left;\n",
       "  margin-right: 0.25em;\n",
       "  color: var(--sklearn-color-icon);\n",
       "}\n",
       "\n",
       "#sk-container-id-1 label.sk-toggleable__label-arrow:hover:before {\n",
       "  color: var(--sklearn-color-text);\n",
       "}\n",
       "\n",
       "/* Toggleable content - dropdown */\n",
       "\n",
       "#sk-container-id-1 div.sk-toggleable__content {\n",
       "  max-height: 0;\n",
       "  max-width: 0;\n",
       "  overflow: hidden;\n",
       "  text-align: left;\n",
       "  /* unfitted */\n",
       "  background-color: var(--sklearn-color-unfitted-level-0);\n",
       "}\n",
       "\n",
       "#sk-container-id-1 div.sk-toggleable__content.fitted {\n",
       "  /* fitted */\n",
       "  background-color: var(--sklearn-color-fitted-level-0);\n",
       "}\n",
       "\n",
       "#sk-container-id-1 div.sk-toggleable__content pre {\n",
       "  margin: 0.2em;\n",
       "  border-radius: 0.25em;\n",
       "  color: var(--sklearn-color-text);\n",
       "  /* unfitted */\n",
       "  background-color: var(--sklearn-color-unfitted-level-0);\n",
       "}\n",
       "\n",
       "#sk-container-id-1 div.sk-toggleable__content.fitted pre {\n",
       "  /* unfitted */\n",
       "  background-color: var(--sklearn-color-fitted-level-0);\n",
       "}\n",
       "\n",
       "#sk-container-id-1 input.sk-toggleable__control:checked~div.sk-toggleable__content {\n",
       "  /* Expand drop-down */\n",
       "  max-height: 200px;\n",
       "  max-width: 100%;\n",
       "  overflow: auto;\n",
       "}\n",
       "\n",
       "#sk-container-id-1 input.sk-toggleable__control:checked~label.sk-toggleable__label-arrow:before {\n",
       "  content: \"▾\";\n",
       "}\n",
       "\n",
       "/* Pipeline/ColumnTransformer-specific style */\n",
       "\n",
       "#sk-container-id-1 div.sk-label input.sk-toggleable__control:checked~label.sk-toggleable__label {\n",
       "  color: var(--sklearn-color-text);\n",
       "  background-color: var(--sklearn-color-unfitted-level-2);\n",
       "}\n",
       "\n",
       "#sk-container-id-1 div.sk-label.fitted input.sk-toggleable__control:checked~label.sk-toggleable__label {\n",
       "  background-color: var(--sklearn-color-fitted-level-2);\n",
       "}\n",
       "\n",
       "/* Estimator-specific style */\n",
       "\n",
       "/* Colorize estimator box */\n",
       "#sk-container-id-1 div.sk-estimator input.sk-toggleable__control:checked~label.sk-toggleable__label {\n",
       "  /* unfitted */\n",
       "  background-color: var(--sklearn-color-unfitted-level-2);\n",
       "}\n",
       "\n",
       "#sk-container-id-1 div.sk-estimator.fitted input.sk-toggleable__control:checked~label.sk-toggleable__label {\n",
       "  /* fitted */\n",
       "  background-color: var(--sklearn-color-fitted-level-2);\n",
       "}\n",
       "\n",
       "#sk-container-id-1 div.sk-label label.sk-toggleable__label,\n",
       "#sk-container-id-1 div.sk-label label {\n",
       "  /* The background is the default theme color */\n",
       "  color: var(--sklearn-color-text-on-default-background);\n",
       "}\n",
       "\n",
       "/* On hover, darken the color of the background */\n",
       "#sk-container-id-1 div.sk-label:hover label.sk-toggleable__label {\n",
       "  color: var(--sklearn-color-text);\n",
       "  background-color: var(--sklearn-color-unfitted-level-2);\n",
       "}\n",
       "\n",
       "/* Label box, darken color on hover, fitted */\n",
       "#sk-container-id-1 div.sk-label.fitted:hover label.sk-toggleable__label.fitted {\n",
       "  color: var(--sklearn-color-text);\n",
       "  background-color: var(--sklearn-color-fitted-level-2);\n",
       "}\n",
       "\n",
       "/* Estimator label */\n",
       "\n",
       "#sk-container-id-1 div.sk-label label {\n",
       "  font-family: monospace;\n",
       "  font-weight: bold;\n",
       "  display: inline-block;\n",
       "  line-height: 1.2em;\n",
       "}\n",
       "\n",
       "#sk-container-id-1 div.sk-label-container {\n",
       "  text-align: center;\n",
       "}\n",
       "\n",
       "/* Estimator-specific */\n",
       "#sk-container-id-1 div.sk-estimator {\n",
       "  font-family: monospace;\n",
       "  border: 1px dotted var(--sklearn-color-border-box);\n",
       "  border-radius: 0.25em;\n",
       "  box-sizing: border-box;\n",
       "  margin-bottom: 0.5em;\n",
       "  /* unfitted */\n",
       "  background-color: var(--sklearn-color-unfitted-level-0);\n",
       "}\n",
       "\n",
       "#sk-container-id-1 div.sk-estimator.fitted {\n",
       "  /* fitted */\n",
       "  background-color: var(--sklearn-color-fitted-level-0);\n",
       "}\n",
       "\n",
       "/* on hover */\n",
       "#sk-container-id-1 div.sk-estimator:hover {\n",
       "  /* unfitted */\n",
       "  background-color: var(--sklearn-color-unfitted-level-2);\n",
       "}\n",
       "\n",
       "#sk-container-id-1 div.sk-estimator.fitted:hover {\n",
       "  /* fitted */\n",
       "  background-color: var(--sklearn-color-fitted-level-2);\n",
       "}\n",
       "\n",
       "/* Specification for estimator info (e.g. \"i\" and \"?\") */\n",
       "\n",
       "/* Common style for \"i\" and \"?\" */\n",
       "\n",
       ".sk-estimator-doc-link,\n",
       "a:link.sk-estimator-doc-link,\n",
       "a:visited.sk-estimator-doc-link {\n",
       "  float: right;\n",
       "  font-size: smaller;\n",
       "  line-height: 1em;\n",
       "  font-family: monospace;\n",
       "  background-color: var(--sklearn-color-background);\n",
       "  border-radius: 1em;\n",
       "  height: 1em;\n",
       "  width: 1em;\n",
       "  text-decoration: none !important;\n",
       "  margin-left: 1ex;\n",
       "  /* unfitted */\n",
       "  border: var(--sklearn-color-unfitted-level-1) 1pt solid;\n",
       "  color: var(--sklearn-color-unfitted-level-1);\n",
       "}\n",
       "\n",
       ".sk-estimator-doc-link.fitted,\n",
       "a:link.sk-estimator-doc-link.fitted,\n",
       "a:visited.sk-estimator-doc-link.fitted {\n",
       "  /* fitted */\n",
       "  border: var(--sklearn-color-fitted-level-1) 1pt solid;\n",
       "  color: var(--sklearn-color-fitted-level-1);\n",
       "}\n",
       "\n",
       "/* On hover */\n",
       "div.sk-estimator:hover .sk-estimator-doc-link:hover,\n",
       ".sk-estimator-doc-link:hover,\n",
       "div.sk-label-container:hover .sk-estimator-doc-link:hover,\n",
       ".sk-estimator-doc-link:hover {\n",
       "  /* unfitted */\n",
       "  background-color: var(--sklearn-color-unfitted-level-3);\n",
       "  color: var(--sklearn-color-background);\n",
       "  text-decoration: none;\n",
       "}\n",
       "\n",
       "div.sk-estimator.fitted:hover .sk-estimator-doc-link.fitted:hover,\n",
       ".sk-estimator-doc-link.fitted:hover,\n",
       "div.sk-label-container:hover .sk-estimator-doc-link.fitted:hover,\n",
       ".sk-estimator-doc-link.fitted:hover {\n",
       "  /* fitted */\n",
       "  background-color: var(--sklearn-color-fitted-level-3);\n",
       "  color: var(--sklearn-color-background);\n",
       "  text-decoration: none;\n",
       "}\n",
       "\n",
       "/* Span, style for the box shown on hovering the info icon */\n",
       ".sk-estimator-doc-link span {\n",
       "  display: none;\n",
       "  z-index: 9999;\n",
       "  position: relative;\n",
       "  font-weight: normal;\n",
       "  right: .2ex;\n",
       "  padding: .5ex;\n",
       "  margin: .5ex;\n",
       "  width: min-content;\n",
       "  min-width: 20ex;\n",
       "  max-width: 50ex;\n",
       "  color: var(--sklearn-color-text);\n",
       "  box-shadow: 2pt 2pt 4pt #999;\n",
       "  /* unfitted */\n",
       "  background: var(--sklearn-color-unfitted-level-0);\n",
       "  border: .5pt solid var(--sklearn-color-unfitted-level-3);\n",
       "}\n",
       "\n",
       ".sk-estimator-doc-link.fitted span {\n",
       "  /* fitted */\n",
       "  background: var(--sklearn-color-fitted-level-0);\n",
       "  border: var(--sklearn-color-fitted-level-3);\n",
       "}\n",
       "\n",
       ".sk-estimator-doc-link:hover span {\n",
       "  display: block;\n",
       "}\n",
       "\n",
       "/* \"?\"-specific style due to the `<a>` HTML tag */\n",
       "\n",
       "#sk-container-id-1 a.estimator_doc_link {\n",
       "  float: right;\n",
       "  font-size: 1rem;\n",
       "  line-height: 1em;\n",
       "  font-family: monospace;\n",
       "  background-color: var(--sklearn-color-background);\n",
       "  border-radius: 1rem;\n",
       "  height: 1rem;\n",
       "  width: 1rem;\n",
       "  text-decoration: none;\n",
       "  /* unfitted */\n",
       "  color: var(--sklearn-color-unfitted-level-1);\n",
       "  border: var(--sklearn-color-unfitted-level-1) 1pt solid;\n",
       "}\n",
       "\n",
       "#sk-container-id-1 a.estimator_doc_link.fitted {\n",
       "  /* fitted */\n",
       "  border: var(--sklearn-color-fitted-level-1) 1pt solid;\n",
       "  color: var(--sklearn-color-fitted-level-1);\n",
       "}\n",
       "\n",
       "/* On hover */\n",
       "#sk-container-id-1 a.estimator_doc_link:hover {\n",
       "  /* unfitted */\n",
       "  background-color: var(--sklearn-color-unfitted-level-3);\n",
       "  color: var(--sklearn-color-background);\n",
       "  text-decoration: none;\n",
       "}\n",
       "\n",
       "#sk-container-id-1 a.estimator_doc_link.fitted:hover {\n",
       "  /* fitted */\n",
       "  background-color: var(--sklearn-color-fitted-level-3);\n",
       "}\n",
       "</style><div id=\"sk-container-id-1\" class=\"sk-top-container\"><div class=\"sk-text-repr-fallback\"><pre>XGBRegressor(base_score=None, booster=None, callbacks=None,\n",
       "             colsample_bylevel=None, colsample_bynode=None,\n",
       "             colsample_bytree=None, device=None, early_stopping_rounds=None,\n",
       "             enable_categorical=False, eval_metric=None, feature_types=None,\n",
       "             gamma=None, grow_policy=None, importance_type=None,\n",
       "             interaction_constraints=None, learning_rate=None, max_bin=None,\n",
       "             max_cat_threshold=None, max_cat_to_onehot=None,\n",
       "             max_delta_step=None, max_depth=None, max_leaves=None,\n",
       "             min_child_weight=None, missing=nan, monotone_constraints=None,\n",
       "             multi_strategy=None, n_estimators=None, n_jobs=None,\n",
       "             num_parallel_tree=None, random_state=None, ...)</pre><b>In a Jupyter environment, please rerun this cell to show the HTML representation or trust the notebook. <br />On GitHub, the HTML representation is unable to render, please try loading this page with nbviewer.org.</b></div><div class=\"sk-container\" hidden><div class=\"sk-item\"><div class=\"sk-estimator fitted sk-toggleable\"><input class=\"sk-toggleable__control sk-hidden--visually\" id=\"sk-estimator-id-1\" type=\"checkbox\" checked><label for=\"sk-estimator-id-1\" class=\"sk-toggleable__label fitted sk-toggleable__label-arrow fitted\">&nbsp;XGBRegressor<span class=\"sk-estimator-doc-link fitted\">i<span>Fitted</span></span></label><div class=\"sk-toggleable__content fitted\"><pre>XGBRegressor(base_score=None, booster=None, callbacks=None,\n",
       "             colsample_bylevel=None, colsample_bynode=None,\n",
       "             colsample_bytree=None, device=None, early_stopping_rounds=None,\n",
       "             enable_categorical=False, eval_metric=None, feature_types=None,\n",
       "             gamma=None, grow_policy=None, importance_type=None,\n",
       "             interaction_constraints=None, learning_rate=None, max_bin=None,\n",
       "             max_cat_threshold=None, max_cat_to_onehot=None,\n",
       "             max_delta_step=None, max_depth=None, max_leaves=None,\n",
       "             min_child_weight=None, missing=nan, monotone_constraints=None,\n",
       "             multi_strategy=None, n_estimators=None, n_jobs=None,\n",
       "             num_parallel_tree=None, random_state=None, ...)</pre></div> </div></div></div></div>"
      ],
      "text/plain": [
       "XGBRegressor(base_score=None, booster=None, callbacks=None,\n",
       "             colsample_bylevel=None, colsample_bynode=None,\n",
       "             colsample_bytree=None, device=None, early_stopping_rounds=None,\n",
       "             enable_categorical=False, eval_metric=None, feature_types=None,\n",
       "             gamma=None, grow_policy=None, importance_type=None,\n",
       "             interaction_constraints=None, learning_rate=None, max_bin=None,\n",
       "             max_cat_threshold=None, max_cat_to_onehot=None,\n",
       "             max_delta_step=None, max_depth=None, max_leaves=None,\n",
       "             min_child_weight=None, missing=nan, monotone_constraints=None,\n",
       "             multi_strategy=None, n_estimators=None, n_jobs=None,\n",
       "             num_parallel_tree=None, random_state=None, ...)"
      ]
     },
     "execution_count": 74,
     "metadata": {},
     "output_type": "execute_result"
    }
   ],
   "source": [
    "regressor.fit(X_train, Y_train)"
   ]
  },
  {
   "cell_type": "markdown",
   "id": "a0ccdafc-5d94-47db-89dc-7381b7dce7d8",
   "metadata": {},
   "source": [
    "# EVALUATION "
   ]
  },
  {
   "cell_type": "code",
   "execution_count": 125,
   "id": "ad485acb-bb5c-4b02-9a42-5d99a673c802",
   "metadata": {},
   "outputs": [],
   "source": [
    "# prediction on training data\n",
    "training_data_prediction = regressor.predict(X_train)"
   ]
  },
  {
   "cell_type": "code",
   "execution_count": 77,
   "id": "15211463-6f73-4e73-b146-f513c81f8472",
   "metadata": {},
   "outputs": [],
   "source": [
    "# R Squared Value\n",
    "r2_train = metrics.r2_score(Y_train, training_data_prediction)"
   ]
  },
  {
   "cell_type": "code",
   "execution_count": 78,
   "id": "0ed766ca-fa30-4898-a50a-00678437976d",
   "metadata": {},
   "outputs": [
    {
     "name": "stdout",
     "output_type": "stream",
     "text": [
      "R Squared Value =  0.8837555728677774\n"
     ]
    }
   ],
   "source": [
    "print(\"R Squared Value = \", r2_train)"
   ]
  },
  {
   "cell_type": "code",
   "execution_count": 79,
   "id": "56a62a2b-8a84-4de2-890e-04b9a49a7b21",
   "metadata": {},
   "outputs": [],
   "source": [
    "# prediction on testing data\n",
    "testing_data_prediction = regressor.predict(X_test)"
   ]
  },
  {
   "cell_type": "code",
   "execution_count": 80,
   "id": "468bdd91-2e78-408f-9666-bacea5842f9f",
   "metadata": {},
   "outputs": [],
   "source": [
    "# R Squared Value\n",
    "r2_test = metrics.r2_score(Y_test, testing_data_prediction)"
   ]
  },
  {
   "cell_type": "code",
   "execution_count": 123,
   "id": "42e3e155-66dd-44bb-9094-897ff1d886cc",
   "metadata": {},
   "outputs": [
    {
     "name": "stdout",
     "output_type": "stream",
     "text": [
      "R Squared Value =  0.6753841233969886\n"
     ]
    }
   ],
   "source": [
    "print(\"R Squared Value = \", r2_test)"
   ]
  },
  {
   "cell_type": "code",
   "execution_count": 127,
   "id": "24c2543b-5235-4159-96c2-e0301acc9cb8",
   "metadata": {},
   "outputs": [
    {
     "data": {
      "image/png": "[encoded data removed]",
      "text/plain": [
       "<Figure size 640x480 with 1 Axes>"
      ]
     },
     "metadata": {},
     "output_type": "display_data"
    }
   ],
   "source": [
    "import matplotlib.pyplot as plt\n",
    "\n",
    "plt.scatter(Y_test, testing_data_prediction)\n",
    "plt.xlabel(\"Actual Sales\")\n",
    "plt.ylabel(\"Predicted Sales\")\n",
    "plt.title(\"Actual vs Predicted Sales\")\n",
    "plt.show()\n"
   ]
  },
  {
   "cell_type": "code",
   "execution_count": 129,
   "id": "1d87d6ba-002e-4134-9675-675088b338c7",
   "metadata": {},
   "outputs": [
    {
     "name": "stdout",
     "output_type": "stream",
     "text": [
      "MAE: 25.92061762494487\n",
      "RMSE: 35.83995789849595\n"
     ]
    }
   ],
   "source": [
    "from sklearn import metrics\n",
    "mae = metrics.mean_absolute_error(Y_test, testing_data_prediction)\n",
    "rmse = np.sqrt(metrics.mean_squared_error(Y_test, testing_data_prediction))\n",
    "print(\"MAE:\", mae)\n",
    "print(\"RMSE:\", rmse)"
   ]
  },
  {
   "cell_type": "code",
   "execution_count": 131,
   "id": "3ed83db9-2290-45ab-89f5-d69764dcebe8",
   "metadata": {},
   "outputs": [],
   "source": [
    "results = pd.DataFrame({\n",
    "    'Actual Sales': Y_test,\n",
    "    'Predicted Sales': testing_data_prediction,\n",
    "    'Absolute Error': abs(Y_test - testing_data_prediction)\n",
    "})\n",
    "results.to_csv('predictions.csv', index=False)\n"
   ]
  },
  {
   "cell_type": "code",
   "execution_count": null,
   "id": "6c43d5b5-8bce-4ef2-a03b-1acfcb517f04",
   "metadata": {},
   "outputs": [],
   "source": []
  }
 ],
 "metadata": {
  "kernelspec": {
   "display_name": "Python 3 (ipykernel)",
   "language": "python",
   "name": "python3"
  },
  "language_info": {
   "codemirror_mode": {
    "name": "ipython",
    "version": 3
   },
   "file_extension": ".py",
   "mimetype": "text/x-python",
   "name": "python",
   "nbconvert_exporter": "python",
   "pygments_lexer": "ipython3",
   "version": "3.12.4"
  }
 },
 "nbformat": 4,
 "nbformat_minor": 5
}
